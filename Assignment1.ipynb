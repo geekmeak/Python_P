{
 "cells": [
  {
   "cell_type": "markdown",
   "metadata": {
    "id": "sU6ae47jTjoW"
   },
   "source": [
    "**Type of Variables**<br>\n",
    "Print the type of i, j, k, s using print(type()) function"
   ]
  },
  {
   "cell_type": "code",
   "execution_count": 1,
   "metadata": {
    "id": "MGNs4BKoSOIi"
   },
   "outputs": [],
   "source": [
    "i = 10\n",
    "j = 11.4\n",
    "k = [1,2,\"Hello\",\"World\"]\n",
    "s = \"Hello World\""
   ]
  },
  {
   "cell_type": "code",
   "execution_count": 9,
   "metadata": {
    "id": "DkTMswFagVmq"
   },
   "outputs": [
    {
     "name": "stdout",
     "output_type": "stream",
     "text": [
      "Type of i is : <class 'int'>\n",
      "Type of j is : <class 'float'>\n",
      "Type of k is : <class 'list'>\n",
      "Type of s is : <class 'str'>\n"
     ]
    }
   ],
   "source": [
    "print(\"Type of i is :\", type(i))\n",
    "print(\"Type of j is :\", type(j))\n",
    "print(\"Type of k is :\", type(k))\n",
    "print(\"Type of s is :\", type(s))\n"
   ]
  },
  {
   "cell_type": "code",
   "execution_count": null,
   "metadata": {
    "id": "BVkXef1ZgmYM"
   },
   "outputs": [],
   "source": []
  },
  {
   "cell_type": "markdown",
   "metadata": {
    "id": "h9rGRe4dUp5X"
   },
   "source": [
    "**Basic Input & Output**"
   ]
  },
  {
   "cell_type": "markdown",
   "metadata": {
    "id": "uMsrbtXHVME3"
   },
   "source": [
    "Q1. write an input function to take name of the user. While taking input the screen should tell \"What is your good name\" and then print it saying \"Hello, this is {Name}\"."
   ]
  },
  {
   "cell_type": "code",
   "execution_count": 12,
   "metadata": {
    "id": "oD6e39t0V368"
   },
   "outputs": [
    {
     "name": "stdout",
     "output_type": "stream",
     "text": [
      "What is your good name\n",
      "Asheesh\n",
      "Hello Asheesh\n"
     ]
    }
   ],
   "source": [
    "name = input(\"What is your good name\\n\")\n",
    "print(\"Hello\",name)"
   ]
  },
  {
   "cell_type": "markdown",
   "metadata": {
    "id": "cL_B-uAdV6Em"
   },
   "source": [
    "Q2. Take 2 input one as a favourite movie and other as favourite Actor<br>\n",
    "Now print out \"your like {movie} and {actor}\" as a output using both .format() and f-string method"
   ]
  },
  {
   "cell_type": "code",
   "execution_count": 40,
   "metadata": {
    "id": "rdEBX5vDYQGi"
   },
   "outputs": [
    {
     "name": "stdout",
     "output_type": "stream",
     "text": [
      "Enter your favourit movie3idiots\n",
      "Enter your favourit actorHrithik\n",
      "your like 3idiots and Hrithik \n",
      "your like 3idiots and Hrithik \n"
     ]
    }
   ],
   "source": [
    "movie =  input(\"Enter your favourit movie\")\n",
    "actor = input(\"Enter your favourit actor\")\n",
    "print( \"your like {} and {} \".format(movie,actor))\n",
    "print(f\"your like {movie} and {actor} \")"
   ]
  },
  {
   "cell_type": "markdown",
   "metadata": {
    "id": "6x6_Eb5TYzC3"
   },
   "source": [
    "**Operators**"
   ]
  },
  {
   "cell_type": "markdown",
   "metadata": {
    "id": "VltAXW_xZi45"
   },
   "source": [
    "Q1. Take 2 interger as input and print sum, multiplication, difference, division, modulus, floor division of first input over second input in every new line."
   ]
  },
  {
   "cell_type": "code",
   "execution_count": 27,
   "metadata": {
    "id": "-pEBOk-GaZE5"
   },
   "outputs": [
    {
     "name": "stdout",
     "output_type": "stream",
     "text": [
      "Enter first interger:5\n",
      "Enter second interger:2\n",
      "Sum:  7\n",
      "Multiplication:  10\n",
      "difference:  3\n",
      "division:  2.5\n",
      "modulus:  1\n",
      "floor division:  2\n"
     ]
    }
   ],
   "source": [
    "a = int(input(\"Enter first interger:\"))\n",
    "b = int(input(\"Enter second interger:\"))\n",
    "print(\"Sum: \",a+b)\n",
    "print(\"Multiplication: \",a*b)\n",
    "print(\"difference: \",a-b)\n",
    "print(\"division: \",a/b)\n",
    "print(\"modulus: \",a%b)\n",
    "print(\"floor division: \",a//b)"
   ]
  },
  {
   "cell_type": "markdown",
   "metadata": {
    "id": "oar8z3Xsay6o"
   },
   "source": [
    "Q2. Again take 2 integer as input, print their squares and repeat Q1 for their squares"
   ]
  },
  {
   "cell_type": "code",
   "execution_count": 28,
   "metadata": {
    "id": "VcOc42BJbrGh"
   },
   "outputs": [
    {
     "name": "stdout",
     "output_type": "stream",
     "text": [
      "Enter first interger:5\n",
      "Enter second interger:2\n",
      "Squre of first number 25\n",
      "Squre of seconf number 4\n",
      "Sum of squares:  7\n",
      "Multiplication of squares:  10\n",
      "difference of squares:  3\n",
      "division of squares:  2.5\n",
      "modulus of squares:  1\n",
      "floor division of squares:  2\n"
     ]
    }
   ],
   "source": [
    "a = int(input(\"Enter first interger:\"))\n",
    "b = int(input(\"Enter second interger:\"))\n",
    "print(\"Squre of first number\",a**2)\n",
    "print(\"Squre of seconf number\",b**2)\n",
    "print(\"Sum of squares: \",a+b)\n",
    "print(\"Multiplication of squares: \",a*b)\n",
    "print(\"difference of squares: \",a-b)\n",
    "print(\"division of squares: \",a/b)\n",
    "print(\"modulus of squares: \",a%b)\n",
    "print(\"floor division of squares: \",a//b)"
   ]
  },
  {
   "cell_type": "markdown",
   "metadata": {
    "id": "6aXldHtdqVBn"
   },
   "source": [
    "**Some Useful Function**"
   ]
  },
  {
   "cell_type": "markdown",
   "metadata": {
    "id": "v-B6JnXD4sE0"
   },
   "source": [
    "Q1. Take 3 integer as input and print the minimum and maximum of these 3 inputs"
   ]
  },
  {
   "cell_type": "code",
   "execution_count": 41,
   "metadata": {
    "id": "j7ygLU_UqZjG"
   },
   "outputs": [
    {
     "name": "stdout",
     "output_type": "stream",
     "text": [
      "Enter first interger:1\n",
      "Enter second interger:2\n",
      "Enter third interger:3\n",
      "minimun number among given numbers is 3\n",
      "minimun number among given numbers is 1\n"
     ]
    }
   ],
   "source": [
    "a = int(input(\"Enter first interger:\"))\n",
    "b = int(input(\"Enter second interger:\"))\n",
    "c = int(input(\"Enter third interger:\"))\n",
    "print(\"minimun number among given numbers is\",max(a,b,c))\n",
    "print(\"minimun number among given numbers is\",min(a,b,c))"
   ]
  },
  {
   "cell_type": "markdown",
   "metadata": {
    "id": "EaTO304f5XOf"
   },
   "source": [
    "Q2. Use sum() and print the sum of <br>\n",
    "a) All elements of list <br>\n",
    "b) Except 1st element of the list<br>\n",
    "c) All elements of the list and start with 2"
   ]
  },
  {
   "cell_type": "code",
   "execution_count": 32,
   "metadata": {
    "id": "jwPrgWBc5OTX"
   },
   "outputs": [],
   "source": [
    "list1 = [2,1,4,3,8,5,6,7,10,9]"
   ]
  },
  {
   "cell_type": "code",
   "execution_count": 33,
   "metadata": {
    "id": "3BC5wjNCjQEi"
   },
   "outputs": [
    {
     "data": {
      "text/plain": [
       "55"
      ]
     },
     "execution_count": 33,
     "metadata": {},
     "output_type": "execute_result"
    }
   ],
   "source": [
    "sum(list1)"
   ]
  },
  {
   "cell_type": "code",
   "execution_count": 34,
   "metadata": {
    "id": "0KYg38kljP2d"
   },
   "outputs": [
    {
     "data": {
      "text/plain": [
       "53"
      ]
     },
     "execution_count": 34,
     "metadata": {},
     "output_type": "execute_result"
    }
   ],
   "source": [
    "sum(list1[1:])"
   ]
  },
  {
   "cell_type": "code",
   "execution_count": 39,
   "metadata": {
    "id": "Xzf9iDLWjPtV"
   },
   "outputs": [
    {
     "data": {
      "text/plain": [
       "8"
      ]
     },
     "execution_count": 39,
     "metadata": {},
     "output_type": "execute_result"
    }
   ],
   "source": [
    "sum(list1,2)"
   ]
  },
  {
   "cell_type": "markdown",
   "metadata": {
    "id": "mTnOhy5yceub"
   },
   "source": [
    "**Bonus Stuff**"
   ]
  },
  {
   "cell_type": "code",
   "execution_count": 37,
   "metadata": {
    "id": "vFI8-Xjob6Rc"
   },
   "outputs": [
    {
     "name": "stdout",
     "output_type": "stream",
     "text": [
      "True\n",
      "True\n"
     ]
    }
   ],
   "source": [
    "# Run this code (ctrl/cmd + Enter) and see the output\n",
    "i = 10\n",
    "j = 10\n",
    "print(i == j)\n",
    "print(i is j)"
   ]
  },
  {
   "cell_type": "code",
   "execution_count": 38,
   "metadata": {
    "colab": {
     "base_uri": "https://localhost:8080/"
    },
    "id": "g4unJERvcCdg",
    "outputId": "423222d6-9145-443e-ebb5-fad3c6c56872"
   },
   "outputs": [
    {
     "name": "stdout",
     "output_type": "stream",
     "text": [
      "True\n",
      "True\n",
      "False\n",
      "True\n"
     ]
    }
   ],
   "source": [
    "# Now run this code and compare it with previous output\n",
    "list1 = [1,2,3]\n",
    "list2 = [1,2,3]\n",
    "list3 = list2\n",
    "print(list1 == list2)\n",
    "print(list1[1] is list2[1])\n",
    "print(list1 is list2)\n",
    "print(list3 is list2)"
   ]
  },
  {
   "cell_type": "code",
   "execution_count": null,
   "metadata": {
    "id": "B0a6fL7djLvA"
   },
   "outputs": [],
   "source": []
  },
  {
   "cell_type": "code",
   "execution_count": null,
   "metadata": {
    "id": "OF83TZZAjLqx"
   },
   "outputs": [],
   "source": []
  },
  {
   "cell_type": "code",
   "execution_count": null,
   "metadata": {
    "id": "xNHRQOrJjLn0"
   },
   "outputs": [],
   "source": []
  },
  {
   "cell_type": "code",
   "execution_count": null,
   "metadata": {
    "id": "dQFoMlnEjLlK"
   },
   "outputs": [],
   "source": []
  },
  {
   "cell_type": "code",
   "execution_count": null,
   "metadata": {
    "id": "f-j5-6WejLiM"
   },
   "outputs": [],
   "source": []
  },
  {
   "cell_type": "code",
   "execution_count": null,
   "metadata": {
    "id": "2aOBEjuijLfJ"
   },
   "outputs": [],
   "source": []
  },
  {
   "cell_type": "code",
   "execution_count": null,
   "metadata": {
    "id": "ixnOfO-cjLcF"
   },
   "outputs": [],
   "source": []
  },
  {
   "cell_type": "code",
   "execution_count": null,
   "metadata": {
    "id": "nOoSHVe_jLYr"
   },
   "outputs": [],
   "source": []
  },
  {
   "cell_type": "code",
   "execution_count": null,
   "metadata": {
    "id": "FefNwmJ8jLWX"
   },
   "outputs": [],
   "source": []
  },
  {
   "cell_type": "markdown",
   "metadata": {
    "id": "vWWrzFZMeAaH"
   },
   "source": [
    "**Answers**"
   ]
  },
  {
   "cell_type": "code",
   "execution_count": null,
   "metadata": {
    "id": "OzkwbsnXeDp3"
   },
   "outputs": [],
   "source": [
    "#@title\n",
    "#Basic input & output\n",
    "#Q1\n",
    "name = input(\"What is your good name? \")\n",
    "print(\"Namaste\", name)\n",
    "\n",
    "#Q2\n",
    "sport = input(\"What is your favourite sport? \")\n",
    "player = input(\"Who is your favourite player? \")\n",
    "print(\"you like {} and {}\".format(sport,player))\n",
    "print(f\"you like {sport} and {player}\")\n",
    "\n",
    "\n",
    "# Operators\n",
    "#Q1\n",
    "num1 = int(input(\"enter first number \"))\n",
    "num2 = int(input(\"enter second number \"))\n",
    "print(\"sum is {} \\ndifference is {} \\nmultiplication is {} \\ndivision is {} \\nmodulus is {} \\nfloor division is {}\".format(num1+num2, num1-num2, num1*num2, num1/num2, num1%num2, num1//num2))\n",
    "\n",
    "#Q2\n",
    "num1 = int(input(\"enter first number \"))\n",
    "num2 = int(input(\"enter second number \"))\n",
    "sq_num1 = num1**2\n",
    "sq_num2 = num2**2\n",
    "print(\"sum is {} \\ndifference is {} \\nmultiplication is {} \\ndivision is {} \\nmodulus is {} \\nfloor division is {}\".format(sq_num1+sq_num2, sq_num1-sq_num2, sq_num1*sq_num2, sq_num1/sq_num2, sq_num1%sq_num2, sq_num1//sq_num2))\n",
    "\n",
    "\n",
    "# Some useful function\n",
    "#Q1\n",
    "a, b, c = int(input()), int(input()), int(input())\n",
    "print(max(a,b,c), \"\\n\", min(a,b,c))\n",
    "\n",
    "#Q2\n",
    "print(sum(list1))\n",
    "print(sum(list1[1:]))\n",
    "print(sum(list1, 2))"
   ]
  }
 ],
 "metadata": {
  "colab": {
   "name": "Assignment1.ipynb",
   "provenance": []
  },
  "kernelspec": {
   "display_name": "Python 3",
   "language": "python",
   "name": "python3"
  },
  "language_info": {
   "codemirror_mode": {
    "name": "ipython",
    "version": 3
   },
   "file_extension": ".py",
   "mimetype": "text/x-python",
   "name": "python",
   "nbconvert_exporter": "python",
   "pygments_lexer": "ipython3",
   "version": "3.8.3"
  }
 },
 "nbformat": 4,
 "nbformat_minor": 1
}
