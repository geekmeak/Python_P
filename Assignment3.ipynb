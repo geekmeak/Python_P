{
 "cells": [
  {
   "cell_type": "markdown",
   "metadata": {
    "id": "BO7jbmFPi6Df"
   },
   "source": [
    "**Q. Ask user to enter age, sex ( M or F ), marital status ( Y or N ) and then using following rules print** **their place of service.\n",
    "if employee is female, then she will work only in urban areas.**\n",
    "\n",
    "**if employee is a male and age is in between 20 to 40 then he may work in anywhere**\n",
    "\n",
    "**if employee is male and age is in between 40 t0 60 then he will work in urban areas only.**\n",
    "\n",
    "**And any other input of age should print \"ERROR\".**"
   ]
  },
  {
   "cell_type": "code",
   "execution_count": 38,
   "metadata": {
    "id": "sdEFyzqDi7C_"
   },
   "outputs": [
    {
     "name": "stdout",
     "output_type": "stream",
     "text": [
      "Enetr your age : 22\n",
      "Enetr your sex, male(M) female(F)f\n",
      "if married then Y othewise N : n\n",
      "Work only in urba area\n"
     ]
    }
   ],
   "source": [
    "age = int(input(\"Enetr your age : \"))\n",
    "sex = input(\"Enetr your sex, male(M) female(F)\")\n",
    "ms =input(\"if married then Y othewise N : \")\n",
    "sex = sex.upper()\n",
    "\n",
    "if sex == \"F\" :\n",
    "    print('Work only in urba area')\n",
    "elif sex == 'M':\n",
    "    if age>=20 and age<=40:\n",
    "        print(\"Can work anywhere\")\n",
    "    elif age>40 and age<60:\n",
    "        (\"Can work only in urban areas\")\n",
    "else:\n",
    "    print(\"ERROR\")"
   ]
  },
  {
   "cell_type": "markdown",
   "metadata": {
    "id": "2Hab5sKxhMMv"
   },
   "source": [
    "**Q. Take input of age of 3 people by user and determine oldest and youngest** \n",
    "**among them, using if-else statement**\n"
   ]
  },
  {
   "cell_type": "code",
   "execution_count": 33,
   "metadata": {
    "id": "NyyWQpAohMxk"
   },
   "outputs": [
    {
     "name": "stdout",
     "output_type": "stream",
     "text": [
      "Enetr age of a : 55\n",
      "Enetr age of b : 12\n",
      "Enetr age of c : 32\n",
      "a is oldest and b is youngest\n"
     ]
    }
   ],
   "source": [
    "a = int(input(\"Enetr age of a : \"))\n",
    "b = int(input(\"Enetr age of b : \"))\n",
    "c = int(input(\"Enetr age of c : \"))\n",
    "\n",
    "if a>b and b>c:\n",
    "    print(\"a is oldest and c is youngest\")\n",
    "elif a>b and b<c:\n",
    "    print(\"a is oldest and b is youngest\")\n",
    "elif b>a and a>c:\n",
    "    print(\"b is oldest and c is youngest\")\n",
    "elif b>a and a<c:\n",
    "    print(\"b is oldest and a is youngest\")\n",
    "elif c>a and a>b:\n",
    "    print(\"c is oldest and b is youngest\")\n",
    "elif c>a and a<c:\n",
    "    print(\"b is oldest and c is youngest\")\n"
   ]
  },
  {
   "cell_type": "markdown",
   "metadata": {
    "id": "UkkVeOo0mPq3"
   },
   "source": [
    "\n",
    "**Q. Take input of integer n, perform the following conditional actions:**\n",
    "\n",
    "**If n is odd, print Weird**\n",
    "\n",
    "**If n is even and in the inclusive range of  0 to 10, print Not Weird**\n",
    "\n",
    "**If n is even and in the inclusive range of 11 to 100, print Weird**\n",
    "\n",
    "**If n is even and greater than 100, print Not Weird**"
   ]
  },
  {
   "cell_type": "code",
   "execution_count": 32,
   "metadata": {
    "id": "fPSDoiiKm58M"
   },
   "outputs": [
    {
     "name": "stdout",
     "output_type": "stream",
     "text": [
      "Enetr an inter number: 0\n",
      "Not Weird\n"
     ]
    }
   ],
   "source": [
    "n = int(input(\"Enetr an inter number: \"))\n",
    "if n%2 != 0:\n",
    "    print(\"Weird\")\n",
    "else:\n",
    "    if n>=0 and n<=10:\n",
    "        print(\"Not Weird\")\n",
    "    elif n>=11 and n<=100:\n",
    "        print(\"Weird\")\n",
    "    elif n>100:\n",
    "        print(\"Not Weird\")\n",
    "        \n"
   ]
  },
  {
   "cell_type": "markdown",
   "metadata": {
    "id": "LtsiJj10hNmY"
   },
   "source": [
    "**Q. Print the following pattern**\n",
    "\n",
    "1 \n",
    "\n",
    "1 2 \n",
    "\n",
    "1 2 3 \n",
    "\n",
    "1 2 3 4 \n",
    "\n",
    "1 2 3 4 5"
   ]
  },
  {
   "cell_type": "code",
   "execution_count": 24,
   "metadata": {},
   "outputs": [
    {
     "name": "stdout",
     "output_type": "stream",
     "text": [
      "1 \n",
      "1 2 \n",
      "1 2 3 \n",
      "1 2 3 4 \n",
      "1 2 3 4 5 \n"
     ]
    }
   ],
   "source": [
    "for i in range(1,6):\n",
    "    for j in range(1,i+1):\n",
    "        print(j, end = ' ')\n",
    "    print()"
   ]
  },
  {
   "cell_type": "markdown",
   "metadata": {
    "id": "1y6i2HCFnYpL"
   },
   "source": [
    "**Q. Take input of two integers A and B. Write a code and print sum of all the numbers which are divisible by 11 but not by 2 between 100 and 500.**"
   ]
  },
  {
   "cell_type": "code",
   "execution_count": 41,
   "metadata": {
    "id": "tH1QAGWDhU9J"
   },
   "outputs": [
    {
     "name": "stdout",
     "output_type": "stream",
     "text": [
      "Enetr lower number greater than 100: 122\n",
      "Enetr higher number less than 500: 400\n",
      "143\n",
      "165\n",
      "187\n",
      "209\n",
      "231\n",
      "253\n",
      "275\n",
      "297\n",
      "319\n",
      "341\n",
      "363\n",
      "385\n"
     ]
    }
   ],
   "source": [
    "a = int(input(\"Enetr lower number greater than 100: \"))\n",
    "b = int(input(\"Enetr higher number less than 500: \"))\n",
    "\n",
    "for i in range(a,b):\n",
    "    if i%11 == 0 and i%2 != 0:\n",
    "        print(i)\n"
   ]
  },
  {
   "cell_type": "markdown",
   "metadata": {
    "id": "YGKYlAHUn91G"
   },
   "source": [
    "**Q. Take a input of any integer and print sum of its digits.**"
   ]
  },
  {
   "cell_type": "code",
   "execution_count": 42,
   "metadata": {
    "id": "C_4o3gPNoRE2"
   },
   "outputs": [
    {
     "name": "stdout",
     "output_type": "stream",
     "text": [
      "Enetr a inter number: 22\n",
      "4\n"
     ]
    }
   ],
   "source": [
    "x = int(input(\"Enetr a inter number: \"))\n",
    "summ =0\n",
    "x1 = str(x)\n",
    "for i in x1:\n",
    "    j = int(i)\n",
    "    summ = summ + j\n",
    "\n",
    "print(summ)\n"
   ]
  },
  {
   "cell_type": "code",
   "execution_count": null,
   "metadata": {},
   "outputs": [],
   "source": []
  }
 ],
 "metadata": {
  "colab": {
   "name": "Assignment3.ipynb",
   "provenance": []
  },
  "kernelspec": {
   "display_name": "Python 3",
   "language": "python",
   "name": "python3"
  },
  "language_info": {
   "codemirror_mode": {
    "name": "ipython",
    "version": 3
   },
   "file_extension": ".py",
   "mimetype": "text/x-python",
   "name": "python",
   "nbconvert_exporter": "python",
   "pygments_lexer": "ipython3",
   "version": "3.8.3"
  }
 },
 "nbformat": 4,
 "nbformat_minor": 1
}
