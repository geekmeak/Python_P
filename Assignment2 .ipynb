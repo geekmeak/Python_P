{
 "cells": [
  {
   "cell_type": "markdown",
   "metadata": {
    "id": "0_YhujSdZl4S"
   },
   "source": [
    "# List"
   ]
  },
  {
   "cell_type": "markdown",
   "metadata": {
    "id": "ACXJkl4TZs4k"
   },
   "source": [
    "**Functions and Methods**"
   ]
  },
  {
   "cell_type": "markdown",
   "metadata": {
    "id": "wsFf1wnca3Jw"
   },
   "source": [
    "Q1. use sort() function to sort [34,1,2,6,3,7], [[1,3], [3,2], [1,2], [3,1]] and ['a', 'x', 'e', 'A', 'X', 'E'] and tell us what you observe in 2nd, 3rd list"
   ]
  },
  {
   "cell_type": "code",
   "execution_count": 2,
   "metadata": {
    "id": "TW42GJCebqgN"
   },
   "outputs": [
    {
     "name": "stdout",
     "output_type": "stream",
     "text": [
      "[1, 2, 3, 6, 7, 34]\n"
     ]
    }
   ],
   "source": [
    "lst1 = [34,1,2,6,3,7]\n",
    "lst1.sort()\n",
    "print(lst1)"
   ]
  },
  {
   "cell_type": "code",
   "execution_count": 3,
   "metadata": {
    "id": "bwOuPkT9cCcm"
   },
   "outputs": [
    {
     "name": "stdout",
     "output_type": "stream",
     "text": [
      "[[1, 2], [1, 3], [3, 1], [3, 2]]\n"
     ]
    }
   ],
   "source": [
    "lst2 =  [[1,3], [3,2], [1,2], [3,1]] \n",
    "lst2.sort()\n",
    "print(lst2)"
   ]
  },
  {
   "cell_type": "code",
   "execution_count": 4,
   "metadata": {
    "id": "HvYQe7TejVFT"
   },
   "outputs": [
    {
     "name": "stdout",
     "output_type": "stream",
     "text": [
      "['A', 'E', 'X', 'a', 'e', 'x']\n"
     ]
    }
   ],
   "source": [
    "lst3 = ['a', 'x', 'e', 'A', 'X', 'E']\n",
    "lst3.sort()\n",
    "print(lst3)"
   ]
  },
  {
   "cell_type": "code",
   "execution_count": null,
   "metadata": {},
   "outputs": [],
   "source": [
    "## In second list it sorts based on element in list in list \n",
    "\n",
    "## In third list uppercase is smaler than lowercase alphabets"
   ]
  },
  {
   "cell_type": "markdown",
   "metadata": {
    "id": "RAgCO40Nb3As"
   },
   "source": [
    "Q2. using count() function print the count of 2 and 3 and then using pop() and remove() function to get all a list of unique numbers for [1,2,2,3,3,3]"
   ]
  },
  {
   "cell_type": "code",
   "execution_count": 6,
   "metadata": {
    "id": "xGHObY5JmHv_"
   },
   "outputs": [],
   "source": [
    "lst =  [1,2,2,3,3,3]"
   ]
  },
  {
   "cell_type": "code",
   "execution_count": 11,
   "metadata": {
    "id": "jDNdnYP0cOks"
   },
   "outputs": [
    {
     "name": "stdout",
     "output_type": "stream",
     "text": [
      "Total count of 2 is 2 and 3 is 3 \n"
     ]
    }
   ],
   "source": [
    "print(\"Total count of 2 is {} and 3 is {} \".format(lst.count(2),lst.count(3)))"
   ]
  },
  {
   "cell_type": "code",
   "execution_count": null,
   "metadata": {
    "id": "ufJM-Ei8cPHH"
   },
   "outputs": [],
   "source": []
  },
  {
   "cell_type": "markdown",
   "metadata": {
    "id": "wYS-rtvmcQUU"
   },
   "source": [
    "Q3. using index() find the index of min and max value in the list [3,6,2,1,7,2,9] and swap them "
   ]
  },
  {
   "cell_type": "code",
   "execution_count": 16,
   "metadata": {
    "id": "2YGA7rDbc3HD"
   },
   "outputs": [
    {
     "name": "stdout",
     "output_type": "stream",
     "text": [
      "Index of min and max are 3, 6 respectively \n"
     ]
    }
   ],
   "source": [
    "list1 = [3,6,2,1,7,2,9]\n",
    "print(\"Index of min and max are {}, {} respectively \" .format(list1.index(min(list1)),list1.index(max(list1))))\n"
   ]
  },
  {
   "cell_type": "markdown",
   "metadata": {
    "id": "FzBKzAuUfW7R"
   },
   "source": [
    "**Slicing**"
   ]
  },
  {
   "cell_type": "markdown",
   "metadata": {
    "id": "rAddE2xZfn6D"
   },
   "source": [
    "Q4. Using slicing method slice [1,2,3,4,5,6,7,8,9,10] in the following ways<br>\n",
    "    a) elements <4 and elements>6 <br>\n",
    "    b) elements <=5 and element >5 but in reverse order<br>\n",
    "    c) odd numbers and even numbers"
   ]
  },
  {
   "cell_type": "code",
   "execution_count": 13,
   "metadata": {
    "id": "z0VsBaJJfxGW"
   },
   "outputs": [],
   "source": []
  },
  {
   "cell_type": "code",
   "execution_count": 25,
   "metadata": {
    "id": "7JTcQuDIgwp6"
   },
   "outputs": [
    {
     "data": {
      "text/plain": [
       "[1, 2, 3, 7, 8, 9, 10]"
      ]
     },
     "execution_count": 25,
     "metadata": {},
     "output_type": "execute_result"
    }
   ],
   "source": [
    "list2 = [1,2,3,4,5,6,7,8,9,10]\n",
    "\n",
    "lst = list2[2:5]\n"
   ]
  },
  {
   "cell_type": "code",
   "execution_count": 48,
   "metadata": {
    "id": "zUUY9xPHgw_t"
   },
   "outputs": [
    {
     "data": {
      "text/plain": [
       "[1, 2, 3, 4, 5, 6, 7, 8, 9, 10]"
      ]
     },
     "execution_count": 48,
     "metadata": {},
     "output_type": "execute_result"
    }
   ],
   "source": [
    "list2"
   ]
  },
  {
   "cell_type": "markdown",
   "metadata": {
    "id": "tpbLObMQgynv"
   },
   "source": [
    "Q5. Use extend() and list concatenation function on the 2 list obtained from Q4.c"
   ]
  },
  {
   "cell_type": "code",
   "execution_count": null,
   "metadata": {
    "id": "k4-TRcsRg-qV"
   },
   "outputs": [],
   "source": []
  },
  {
   "cell_type": "code",
   "execution_count": null,
   "metadata": {
    "id": "9Usesd2uhLcK"
   },
   "outputs": [],
   "source": []
  },
  {
   "cell_type": "markdown",
   "metadata": {
    "id": "CJCeEmFCi3dJ"
   },
   "source": [
    "**Unpacking List**"
   ]
  },
  {
   "cell_type": "markdown",
   "metadata": {
    "id": "biNelgs_i7ZI"
   },
   "source": [
    "Q6. using unpacking method unpack the following lists in different data types<br>\n",
    "a) [1,2.1,\"hello\"]<br>\n",
    "b) [\"hi\", 1.1, 2.3, [1,2]]\n",
    "c) [\"h1\", [1,3], 1,2]"
   ]
  },
  {
   "cell_type": "code",
   "execution_count": 60,
   "metadata": {
    "id": "aHwJfIx-lx6i"
   },
   "outputs": [],
   "source": [
    "list1 = [1,2.1,\"hello\"]\n",
    "list2 = [\"hi\", 1.1, 2.3, [1,2]] \n",
    "list3 =  [\"h1\", [1,3], 1,2]"
   ]
  },
  {
   "cell_type": "code",
   "execution_count": 61,
   "metadata": {
    "id": "-uole7rPlyPU"
   },
   "outputs": [
    {
     "name": "stdout",
     "output_type": "stream",
     "text": [
      "[1, 2.1]\n",
      "hello\n"
     ]
    }
   ],
   "source": [
    "*integers,string = list1\n",
    "print(integers)\n",
    "print(string)"
   ]
  },
  {
   "cell_type": "code",
   "execution_count": 62,
   "metadata": {
    "id": "pdgoeojdlyuZ"
   },
   "outputs": [
    {
     "name": "stdout",
     "output_type": "stream",
     "text": [
      "hi\n",
      "[1.1, 2.3]\n",
      "[1, 2]\n"
     ]
    }
   ],
   "source": [
    "string,*integers,lst = list2\n",
    "\n",
    "print(string)\n",
    "print(integers)\n",
    "print(lst )"
   ]
  },
  {
   "cell_type": "code",
   "execution_count": 63,
   "metadata": {},
   "outputs": [
    {
     "name": "stdout",
     "output_type": "stream",
     "text": [
      "hi\n",
      "1.1\n",
      "[2.3, [1, 2]]\n"
     ]
    }
   ],
   "source": [
    "string,lst ,*integers= list2\n",
    "\n",
    "print(string)\n",
    "print(lst )\n",
    "print(integers)"
   ]
  },
  {
   "cell_type": "markdown",
   "metadata": {
    "id": "zDeltUd2hRZo"
   },
   "source": [
    "# String"
   ]
  },
  {
   "cell_type": "markdown",
   "metadata": {
    "id": "z_x3P_EfhVO2"
   },
   "source": [
    "**Functions and Methods**"
   ]
  },
  {
   "cell_type": "markdown",
   "metadata": {
    "id": "Kc64jflrmb_I"
   },
   "source": [
    "Q1. Using split() function split the following strings on the given character<br>\n",
    "a) \"Hello I am Google Colab\", \" \" (normal split)<br>\n",
    "b) \"user@example.com\", \"@\" <br>\n",
    "c) \"Amanda is a woman\", \"a\" "
   ]
  },
  {
   "cell_type": "code",
   "execution_count": 65,
   "metadata": {
    "id": "TAUZgcwtvc6n"
   },
   "outputs": [],
   "source": [
    "str1 = \"Hello I am Google Colab\"\n",
    "str2 = \"user@example.com\"\n",
    "str3 = \"Amanda is a woman\""
   ]
  },
  {
   "cell_type": "code",
   "execution_count": 66,
   "metadata": {
    "id": "1BexlL9_ve19"
   },
   "outputs": [
    {
     "data": {
      "text/plain": [
       "['Hello', 'I', 'am', 'Google', 'Colab']"
      ]
     },
     "execution_count": 66,
     "metadata": {},
     "output_type": "execute_result"
    }
   ],
   "source": [
    "str1.split()"
   ]
  },
  {
   "cell_type": "code",
   "execution_count": 67,
   "metadata": {
    "id": "RwMXvE0Wvej1"
   },
   "outputs": [
    {
     "data": {
      "text/plain": [
       "['user', 'example.com']"
      ]
     },
     "execution_count": 67,
     "metadata": {},
     "output_type": "execute_result"
    }
   ],
   "source": [
    "str2.split('@')"
   ]
  },
  {
   "cell_type": "code",
   "execution_count": 68,
   "metadata": {},
   "outputs": [
    {
     "data": {
      "text/plain": [
       "['Am', 'nd', ' is ', ' wom', 'n']"
      ]
     },
     "execution_count": 68,
     "metadata": {},
     "output_type": "execute_result"
    }
   ],
   "source": [
    "str3.split('a')"
   ]
  },
  {
   "cell_type": "markdown",
   "metadata": {
    "id": "BiADO5h_wyJH"
   },
   "source": [
    "Q2. Join the list [\"Hello\", \"World\", \"Nice\", \"to\", \"meet\", \"you\"] with the following way<br>\n",
    "a) normal<br>\n",
    "b) \"@\""
   ]
  },
  {
   "cell_type": "code",
   "execution_count": 70,
   "metadata": {
    "id": "msXoMLpyxLSn"
   },
   "outputs": [],
   "source": [
    "lst1 =  [\"Hello\", \"World\", \"Nice\", \"to\", \"meet\", \"you\"]\n"
   ]
  },
  {
   "cell_type": "code",
   "execution_count": 74,
   "metadata": {
    "id": "vFC0OAFUxKz9"
   },
   "outputs": [
    {
     "name": "stdout",
     "output_type": "stream",
     "text": [
      "Hello World Nice to meet you\n"
     ]
    }
   ],
   "source": [
    "joined = \" \".join(lst1)\n",
    "print(joined)"
   ]
  },
  {
   "cell_type": "code",
   "execution_count": 73,
   "metadata": {},
   "outputs": [
    {
     "name": "stdout",
     "output_type": "stream",
     "text": [
      "Hello@World@Nice@to@meet@you\n"
     ]
    }
   ],
   "source": [
    "joined = \"@\".join(lst1)\n",
    "print(joined)"
   ]
  },
  {
   "cell_type": "markdown",
   "metadata": {
    "id": "NvYLLIP5xSnm"
   },
   "source": [
    "Q3. Replace \"?\" in the string with the right word to make a logically correct sentence<br>\n",
    "a) \"one plus one is ?\"\n",
    "b) \"it's ? in the clock\" (mention the time in the clock when you are atempting this question)"
   ]
  },
  {
   "cell_type": "code",
   "execution_count": 75,
   "metadata": {
    "id": "x5yJb3c3yKUD"
   },
   "outputs": [],
   "source": [
    "x = \"one plus one is ?\" \n",
    "y = \"it's ? in the clock\"\n",
    "\n"
   ]
  },
  {
   "cell_type": "code",
   "execution_count": 78,
   "metadata": {
    "id": "6RYDvBJ1yKs-"
   },
   "outputs": [
    {
     "name": "stdout",
     "output_type": "stream",
     "text": [
      "one plus one is two\n",
      "it's 12:30 in the clock\n"
     ]
    }
   ],
   "source": [
    "print(x.replace(\"?\",\"two\"))\n",
    "print(y.replace(\"?\", \"12:30\"))"
   ]
  },
  {
   "cell_type": "markdown",
   "metadata": {
    "id": "1U6h2sEQy16G"
   },
   "source": [
    "# Dictionaries"
   ]
  },
  {
   "cell_type": "markdown",
   "metadata": {
    "id": "37oOlcWPy5WF"
   },
   "source": [
    "Q1. Construct a Dictionary with keys ===> \"name\", \"age\", \"color\", \"place\" and repective values ===> your name, your age, your fav color, place where you live.<br>\n",
    "\n",
    "After constructing the dictionary, print the list of keys, values and items of the dictionary"
   ]
  },
  {
   "cell_type": "code",
   "execution_count": 83,
   "metadata": {
    "id": "3crjrol40B0C"
   },
   "outputs": [],
   "source": [
    "my_dict = {\"name\":\"\",\"age\":\"\",\"color\":\"\",\"place\":\"\"}"
   ]
  },
  {
   "cell_type": "code",
   "execution_count": 84,
   "metadata": {},
   "outputs": [],
   "source": [
    "my_dict[\"name\"] = \"Asheesh\"\n",
    "my_dict[\"age\"] = \"26\"\n",
    "my_dict[\"color\"] = \"Black\"\n",
    "my_dict[\"place\"] = \"Delhi\"\n",
    "\n"
   ]
  },
  {
   "cell_type": "code",
   "execution_count": 88,
   "metadata": {},
   "outputs": [
    {
     "name": "stdout",
     "output_type": "stream",
     "text": [
      "dict_keys(['name', 'age', 'color', 'place'])\n"
     ]
    }
   ],
   "source": [
    "print(my_dict.keys())"
   ]
  },
  {
   "cell_type": "code",
   "execution_count": 89,
   "metadata": {},
   "outputs": [
    {
     "name": "stdout",
     "output_type": "stream",
     "text": [
      "dict_values(['Asheesh', '26', 'Black', 'Delhi'])\n"
     ]
    }
   ],
   "source": [
    "print(my_dict.values())"
   ]
  },
  {
   "cell_type": "code",
   "execution_count": 90,
   "metadata": {},
   "outputs": [
    {
     "name": "stdout",
     "output_type": "stream",
     "text": [
      "dict_items([('name', 'Asheesh'), ('age', '26'), ('color', 'Black'), ('place', 'Delhi')])\n"
     ]
    }
   ],
   "source": [
    "print(my_dict.items())"
   ]
  },
  {
   "cell_type": "markdown",
   "metadata": {
    "id": "-2oCggYb0EdW"
   },
   "source": [
    "Q2. Construct a dictionary that contains 2 keys each as a name of your friend and value as a dictionary mentioned in Q1<br>\n",
    "\n",
    "eg:- {\"friend1\":{\"name\": \"Prashant\", \"age\": \"22\"....}, \"friend2\": {...}}\n",
    "\n",
    "print the list items of the main dictionary and also the sub-dictionaries present as value"
   ]
  },
  {
   "cell_type": "code",
   "execution_count": 102,
   "metadata": {
    "id": "WfjnJVxx1P8E"
   },
   "outputs": [],
   "source": [
    "my_friends = {\"friend1\": {\"name\":\"Sai Kiran\",\"age\":\"26\",\"color\":\"Blue\",\"place\":\"Telangana\"}, \"friend2\": {\"name\":\"Rajneesh\",\"age\":\"26\",\"color\":\"Green\",\"place\":\"Ghajipur\"}}"
   ]
  },
  {
   "cell_type": "code",
   "execution_count": 103,
   "metadata": {},
   "outputs": [
    {
     "data": {
      "text/plain": [
       "dict_items([('friend1', {'name': 'Sai Kiran', 'age': '26', 'color': 'Blue', 'place': 'Telangana'}), ('friend2', {'name': 'Rajneesh', 'age': '26', 'color': 'Green', 'place': 'Ghajipur'})])"
      ]
     },
     "execution_count": 103,
     "metadata": {},
     "output_type": "execute_result"
    }
   ],
   "source": [
    "my_friends.items()"
   ]
  },
  {
   "cell_type": "code",
   "execution_count": 104,
   "metadata": {},
   "outputs": [
    {
     "data": {
      "text/plain": [
       "dict_values([{'name': 'Sai Kiran', 'age': '26', 'color': 'Blue', 'place': 'Telangana'}, {'name': 'Rajneesh', 'age': '26', 'color': 'Green', 'place': 'Ghajipur'}])"
      ]
     },
     "execution_count": 104,
     "metadata": {},
     "output_type": "execute_result"
    }
   ],
   "source": [
    "my_friends.values()"
   ]
  },
  {
   "cell_type": "code",
   "execution_count": null,
   "metadata": {},
   "outputs": [],
   "source": []
  }
 ],
 "metadata": {
  "colab": {
   "name": "Assignment2.ipynb",
   "provenance": [],
   "toc_visible": true
  },
  "kernelspec": {
   "display_name": "Python 3",
   "language": "python",
   "name": "python3"
  },
  "language_info": {
   "codemirror_mode": {
    "name": "ipython",
    "version": 3
   },
   "file_extension": ".py",
   "mimetype": "text/x-python",
   "name": "python",
   "nbconvert_exporter": "python",
   "pygments_lexer": "ipython3",
   "version": "3.8.3"
  }
 },
 "nbformat": 4,
 "nbformat_minor": 1
}
